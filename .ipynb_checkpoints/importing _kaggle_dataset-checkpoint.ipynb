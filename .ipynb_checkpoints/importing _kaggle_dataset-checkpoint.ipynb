{
 "cells": [
  {
   "cell_type": "markdown",
   "id": "0b7b3838-522e-49ba-86c5-7b04dae40035",
   "metadata": {},
   "source": [
    "### Applictaion programming Interface"
   ]
  },
  {
   "cell_type": "code",
   "execution_count": 1,
   "id": "832984ec-b40f-4209-a28d-6f77e9bf2a64",
   "metadata": {},
   "outputs": [
    {
     "name": "stdout",
     "output_type": "stream",
     "text": [
      "Collecting kaggle\n",
      "  Downloading kaggle-1.7.4.2-py3-none-any.whl.metadata (16 kB)\n",
      "Requirement already satisfied: bleach in c:\\users\\aditya\\anaconda3\\anaconda_navigator\\lib\\site-packages (from kaggle) (4.1.0)\n",
      "Requirement already satisfied: certifi>=14.05.14 in c:\\users\\aditya\\anaconda3\\anaconda_navigator\\lib\\site-packages (from kaggle) (2025.1.31)\n",
      "Requirement already satisfied: charset-normalizer in c:\\users\\aditya\\anaconda3\\anaconda_navigator\\lib\\site-packages (from kaggle) (2.0.4)\n",
      "Requirement already satisfied: idna in c:\\users\\aditya\\anaconda3\\anaconda_navigator\\lib\\site-packages (from kaggle) (3.4)\n",
      "Requirement already satisfied: protobuf in c:\\users\\aditya\\anaconda3\\anaconda_navigator\\lib\\site-packages (from kaggle) (3.20.3)\n",
      "Requirement already satisfied: python-dateutil>=2.5.3 in c:\\users\\aditya\\anaconda3\\anaconda_navigator\\lib\\site-packages (from kaggle) (2.8.2)\n",
      "Requirement already satisfied: python-slugify in c:\\users\\aditya\\anaconda3\\anaconda_navigator\\lib\\site-packages (from kaggle) (5.0.2)\n",
      "Requirement already satisfied: requests in c:\\users\\aditya\\anaconda3\\anaconda_navigator\\lib\\site-packages (from kaggle) (2.32.3)\n",
      "Requirement already satisfied: setuptools>=21.0.0 in c:\\users\\aditya\\anaconda3\\anaconda_navigator\\lib\\site-packages (from kaggle) (68.2.2)\n",
      "Requirement already satisfied: six>=1.10 in c:\\users\\aditya\\anaconda3\\anaconda_navigator\\lib\\site-packages (from kaggle) (1.16.0)\n",
      "Requirement already satisfied: text-unidecode in c:\\users\\aditya\\anaconda3\\anaconda_navigator\\lib\\site-packages (from kaggle) (1.3)\n",
      "Requirement already satisfied: tqdm in c:\\users\\aditya\\anaconda3\\anaconda_navigator\\lib\\site-packages (from kaggle) (4.65.0)\n",
      "Requirement already satisfied: urllib3>=1.15.1 in c:\\users\\aditya\\anaconda3\\anaconda_navigator\\lib\\site-packages (from kaggle) (2.0.7)\n",
      "Requirement already satisfied: webencodings in c:\\users\\aditya\\anaconda3\\anaconda_navigator\\lib\\site-packages (from kaggle) (0.5.1)\n",
      "Requirement already satisfied: packaging in c:\\users\\aditya\\anaconda3\\anaconda_navigator\\lib\\site-packages (from bleach->kaggle) (23.1)\n",
      "Requirement already satisfied: colorama in c:\\users\\aditya\\anaconda3\\anaconda_navigator\\lib\\site-packages (from tqdm->kaggle) (0.4.6)\n",
      "Downloading kaggle-1.7.4.2-py3-none-any.whl (173 kB)\n",
      "   ---------------------------------------- 0.0/173.2 kB ? eta -:--:--\n",
      "   -- ------------------------------------- 10.2/173.2 kB ? eta -:--:--\n",
      "   -------------- ------------------------- 61.4/173.2 kB 1.1 MB/s eta 0:00:01\n",
      "   ---------------------------- ----------- 122.9/173.2 kB 1.2 MB/s eta 0:00:01\n",
      "   ---------------------------------------- 173.2/173.2 kB 1.2 MB/s eta 0:00:00\n",
      "Installing collected packages: kaggle\n",
      "Successfully installed kaggle-1.7.4.2\n"
     ]
    }
   ],
   "source": [
    " #install kaggle library\n",
    "!pip install kaggle "
   ]
  },
  {
   "cell_type": "markdown",
   "id": "bc7660f7-0420-490c-bc15-464df287796d",
   "metadata": {},
   "source": [
    "#### upload kagle.json file(javascript object notation) is used to data interchange between web application and servers\n"
   ]
  },
  {
   "cell_type": "code",
   "execution_count": 2,
   "id": "b26e70d9-4a57-4381-a8c8-888f67e0c059",
   "metadata": {},
   "outputs": [
    {
     "name": "stderr",
     "output_type": "stream",
     "text": [
      "The syntax of the command is incorrect.\n",
      "'cp' is not recognized as an internal or external command,\n",
      "operable program or batch file.\n",
      "'chmod' is not recognized as an internal or external command,\n",
      "operable program or batch file.\n"
     ]
    }
   ],
   "source": [
    "!mkdir -p ~/.kaggle\n",
    "!cp kaggle.json ~/.kaggle/\n",
    "!chmod 600 ~/.kaggle/kaggle.json"
   ]
  },
  {
   "cell_type": "code",
   "execution_count": null,
   "id": "6ed7e7dc-678b-4684-a6ce-37be3d193eeb",
   "metadata": {},
   "outputs": [],
   "source": []
  }
 ],
 "metadata": {
  "kernelspec": {
   "display_name": "Python 3 (ipykernel)",
   "language": "python",
   "name": "python3"
  },
  "language_info": {
   "codemirror_mode": {
    "name": "ipython",
    "version": 3
   },
   "file_extension": ".py",
   "mimetype": "text/x-python",
   "name": "python",
   "nbconvert_exporter": "python",
   "pygments_lexer": "ipython3",
   "version": "3.11.7"
  }
 },
 "nbformat": 4,
 "nbformat_minor": 5
}
